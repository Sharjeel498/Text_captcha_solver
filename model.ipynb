{
 "cells": [
  {
   "cell_type": "code",
   "execution_count": 9,
   "metadata": {},
   "outputs": [],
   "source": [
    "import numpy as np\n",
    "import tensorflow as tf\n",
    "from tensorflow.keras.models import Sequential\n",
    "from tensorflow.keras.layers import Conv2D,Flatten, Dense\n",
    "from tensorflow.keras.regularizers import l2\n",
    "from sklearn.model_selection import train_test_split\n",
    "import os\n",
    "import sys\n",
    "import cv2\n",
    "from sklearn.metrics import classification_report, confusion_matrix\n",
    "import numpy as np\n"
   ]
  },
  {
   "cell_type": "code",
   "execution_count": 10,
   "metadata": {},
   "outputs": [
    {
     "name": "stdout",
     "output_type": "stream",
     "text": [
      "Epoch 1/3\n"
     ]
    },
    {
     "name": "stderr",
     "output_type": "stream",
     "text": [
      "c:\\Users\\Sharjeel\\AppData\\Local\\Programs\\Python\\Python312\\Lib\\site-packages\\keras\\src\\layers\\convolutional\\base_conv.py:107: UserWarning: Do not pass an `input_shape`/`input_dim` argument to a layer. When using Sequential models, prefer using an `Input(shape)` object as the first layer in the model instead.\n",
      "  super().__init__(activity_regularizer=activity_regularizer, **kwargs)\n"
     ]
    },
    {
     "name": "stdout",
     "output_type": "stream",
     "text": [
      "\u001b[1m129/129\u001b[0m \u001b[32m━━━━━━━━━━━━━━━━━━━━\u001b[0m\u001b[37m\u001b[0m \u001b[1m2s\u001b[0m 5ms/step - accuracy: 0.8790 - loss: 0.4719 - val_accuracy: 0.9884 - val_loss: 0.1290\n",
      "Epoch 2/3\n",
      "\u001b[1m129/129\u001b[0m \u001b[32m━━━━━━━━━━━━━━━━━━━━\u001b[0m\u001b[37m\u001b[0m \u001b[1m1s\u001b[0m 4ms/step - accuracy: 0.9932 - loss: 0.0700 - val_accuracy: 0.9884 - val_loss: 0.1394\n",
      "Epoch 3/3\n",
      "\u001b[1m129/129\u001b[0m \u001b[32m━━━━━━━━━━━━━━━━━━━━\u001b[0m\u001b[37m\u001b[0m \u001b[1m1s\u001b[0m 5ms/step - accuracy: 0.9929 - loss: 0.0761 - val_accuracy: 0.9884 - val_loss: 0.1142\n",
      "INFO:tensorflow:Assets written to: C:\\Users\\Sharjeel\\AppData\\Local\\Temp\\tmpt_0nqxom\\assets\n"
     ]
    },
    {
     "name": "stderr",
     "output_type": "stream",
     "text": [
      "INFO:tensorflow:Assets written to: C:\\Users\\Sharjeel\\AppData\\Local\\Temp\\tmpt_0nqxom\\assets\n"
     ]
    },
    {
     "name": "stdout",
     "output_type": "stream",
     "text": [
      "Saved artifact at 'C:\\Users\\Sharjeel\\AppData\\Local\\Temp\\tmpt_0nqxom'. The following endpoints are available:\n",
      "\n",
      "* Endpoint 'serve'\n",
      "  args_0 (POSITIONAL_ONLY): TensorSpec(shape=(None, 28, 28, 1), dtype=tf.float32, name='keras_tensor_11')\n",
      "Output Type:\n",
      "  TensorSpec(shape=(None, 10), dtype=tf.float32, name=None)\n",
      "Captures:\n",
      "  2362361672912: TensorSpec(shape=(), dtype=tf.resource, name=None)\n",
      "  2362361667920: TensorSpec(shape=(), dtype=tf.resource, name=None)\n",
      "  2362361665232: TensorSpec(shape=(), dtype=tf.resource, name=None)\n",
      "  2362361668496: TensorSpec(shape=(), dtype=tf.resource, name=None)\n",
      "  2362361671760: TensorSpec(shape=(), dtype=tf.resource, name=None)\n",
      "  2362361673488: TensorSpec(shape=(), dtype=tf.resource, name=None)\n"
     ]
    }
   ],
   "source": [
    "image_height = 28\n",
    "image_width = 28\n",
    "image_channels = 1\n",
    "label_length = 1\n",
    "n_classes= 10  # Digits 0-9\n",
    "\n",
    "digits =\"0123456789\"\n",
    "\n",
    "if getattr(sys, 'frozen', False):\n",
    "    # Running as compiled .exe\n",
    "    base_path = os.path.dirname(sys.executable)\n",
    "else:\n",
    "    try:\n",
    "        # Running as script\n",
    "        base_path = os.path.dirname(os.path.abspath(__file__))\n",
    "    except NameError:\n",
    "        # Handle interactive environments\n",
    "        base_path = os.getcwd()\n",
    "\n",
    "data_dir = os.path.join(base_path, \"Single_digit_samples\")\n",
    "n_samples = len(os.listdir(data_dir))\n",
    "\n",
    "def preprocess():\n",
    "  X = np.zeros((n_samples,image_height,image_width,image_channels))\n",
    "  y = np.zeros((n_samples,n_classes)) \n",
    "\n",
    "  for i, file in enumerate(os.listdir(data_dir)):\n",
    "    \n",
    "    img = cv2.imread(os.path.join(data_dir, file), cv2.IMREAD_GRAYSCALE) #Read image in grayscale format\n",
    "    label = file[:1]\n",
    "    \n",
    "    if len(label) < 2: # 1 digit\n",
    "      img = img / 255.0\n",
    "      img = np.reshape(img, (image_height, image_width, image_channels))\n",
    "\n",
    "      target =np.zeros(n_classes) #creates an array of size 1*10 with all entries 0\n",
    "      index = digits.find(label)\n",
    "      target[index] = 1\n",
    "\n",
    "      X[i] = img \n",
    "      y[i] = target \n",
    "\n",
    "  return X,y\n",
    "\n",
    "images, labels = preprocess() \n",
    "\n",
    "X_train, X_test, y_train, y_test = train_test_split(images, labels, shuffle=True, test_size=0.2) # shuffle the data to break groups\n",
    "\n",
    "\n",
    "def train_model(input_shape):\n",
    "    model = Sequential()\n",
    "\n",
    "    # Convolutional layers\n",
    "    model.add(Conv2D(16 ,(3, 3), padding='same', activation='relu', input_shape=input_shape))\n",
    "\n",
    "    model.add(Conv2D(32, (3, 3), padding='same', activation='relu'))\n",
    "\n",
    "    # Flatten and fully connected layers\n",
    "    model.add(Flatten())\n",
    "\n",
    "    model.add(Dense(n_classes, activation= \"softmax\", kernel_regularizer=l2(0.001)))\n",
    "    model.compile(optimizer = 'adam', loss='categorical_crossentropy', metrics = ['accuracy'])\n",
    "    \n",
    "    return model\n",
    "\n",
    "input_shape = (28, 28, 1)\n",
    "model = train_model(input_shape)\n",
    "validation_data = (X_test, y_test)\n",
    "model.fit(X_train, y_train, epochs= 3, validation_split= 0.2, batch_size = 16)\n",
    "\n",
    "# Convert the model to TensorFlow Lite as it is faster.\n",
    "converter = tf.lite.TFLiteConverter.from_keras_model(model)\n",
    "tflite_model = converter.convert()\n",
    "\n",
    "with open('model.tflite', 'wb') as f:\n",
    "    f.write(tflite_model)\n",
    "\n"
   ]
  },
  {
   "cell_type": "code",
   "execution_count": 11,
   "metadata": {},
   "outputs": [],
   "source": [
    "\n",
    "model_path = os.path.join(base_path, \"model.tflite\")\n",
    "interpreter = tf.lite.Interpreter(model_path=model_path)\n",
    "interpreter.allocate_tensors()\n",
    "\n",
    "def pred_captcha(captcha, image_height, image_width, image_channels):\n",
    "    image = cv2.imread(captcha)\n",
    "    red_channel = image[:, :, 2]\n",
    "    ret, clean_image = cv2.threshold(red_channel, 80, 255, cv2.THRESH_BINARY_INV) #Removing the lines in the captcha images using red color threshold.\n",
    "    contours, heirarchy = cv2.findContours(clean_image, cv2.RETR_EXTERNAL, cv2.CHAIN_APPROX_SIMPLE)\n",
    "    contours = sorted(contours, key=lambda ctr: cv2.boundingRect(ctr)[0]) # Finding contours in the order they are found(left to right.)\n",
    "\n",
    "    preprocessed_digits = []\n",
    "    for c in contours:\n",
    "        x,y,w,h = cv2.boundingRect(c)\n",
    "        \n",
    "        # Creating a rectangle around the digit in the original image (for displaying the digits fetched via contours)\n",
    "        #adding or subtracting pixels to get the complete digit in the rectangle\n",
    "        cv2.rectangle(clean_image, (x - 3,y - 3), (x+w+ 2, y+h + 2), color=(0, 255, 0), thickness=2)\n",
    "        \n",
    "        # Cropping out the digit from the image corresponding to the current contours in the for loop\n",
    "        digit = clean_image[y:y+h, x:x+w]\n",
    "        \n",
    "        # Resizing that digit to (18, 18)\n",
    "        resized_digit = cv2.resize(digit, (18,18))\n",
    "        resized_digit = resized_digit.astype(np.float32)\n",
    "        resized_digit = resized_digit / 255.0\n",
    "        \n",
    "        # Padding the digit with 5 pixels of black color in each side\n",
    "        padded_digit = np.pad(resized_digit, ((5,5),(5,5)), \"constant\", constant_values=0)\n",
    "        \n",
    "        preprocessed_digits.append(padded_digit)\n",
    "\n",
    "    preprocessed_digits = np.array(preprocessed_digits)\n",
    "    preprocessed_digits = preprocessed_digits.reshape((len(preprocessed_digits), image_height, image_width, image_channels))\n",
    "\n",
    "    input_details = interpreter.get_input_details()\n",
    "    output_details = interpreter.get_output_details()\n",
    "    \n",
    "    captcha_text = ''\n",
    "    for digit in preprocessed_digits:\n",
    "\n",
    "        # Reshaping the input to match the model's expected input shape\n",
    "        input_data = np.expand_dims(digit, axis=0)\n",
    "        interpreter.set_tensor(input_details[0]['index'], input_data)\n",
    "        \n",
    "        interpreter.invoke()\n",
    "        \n",
    "        output_data = interpreter.get_tensor(output_details[0]['index'])\n",
    "        \n",
    "        predicted_digit = np.argmax(output_data)\n",
    "        captcha_text += str(predicted_digit)\n",
    "    \n",
    "    return captcha_text"
   ]
  },
  {
   "cell_type": "code",
   "execution_count": 14,
   "metadata": {},
   "outputs": [
    {
     "name": "stdout",
     "output_type": "stream",
     "text": [
      "Loss: 0.0896703228354454\n",
      "Accuracy: 0.9860681295394897\n",
      "Precision: 0.9860681295394897\n",
      "Recall: 0.9860681295394897\n"
     ]
    }
   ],
   "source": [
    "# Compile the model with metrics\n",
    "model.compile(optimizer='adam',\n",
    "              loss='binary_crossentropy',\n",
    "              metrics=['accuracy', 'precision', 'recall'])\n",
    "\n",
    "# Evaluate the model\n",
    "results = model.evaluate(X_test, y_test, verbose=0)\n",
    "print(f\"Loss: {results[0]}\")\n",
    "print(f\"Accuracy: {results[1]}\")\n",
    "print(f\"Precision: {results[2]}\")\n",
    "print(f\"Recall: {results[3]}\")\n"
   ]
  },
  {
   "cell_type": "code",
   "execution_count": 28,
   "metadata": {},
   "outputs": [
    {
     "name": "stdout",
     "output_type": "stream",
     "text": [
      "\u001b[1m21/21\u001b[0m \u001b[32m━━━━━━━━━━━━━━━━━━━━\u001b[0m\u001b[37m\u001b[0m \u001b[1m0s\u001b[0m 4ms/step\n",
      "              precision    recall  f1-score   support\n",
      "\n",
      "           0       0.98      1.00      0.99        55\n",
      "           1       1.00      1.00      1.00        79\n",
      "           2       0.91      1.00      0.95        51\n",
      "           3       0.97      1.00      0.98        57\n",
      "           4       1.00      1.00      1.00        64\n",
      "           5       1.00      1.00      1.00        54\n",
      "           6       1.00      0.99      0.99        71\n",
      "           7       0.99      1.00      0.99        76\n",
      "           8       1.00      0.92      0.96        74\n",
      "           9       1.00      0.97      0.98        65\n",
      "\n",
      "   micro avg       0.99      0.99      0.99       646\n",
      "   macro avg       0.98      0.99      0.99       646\n",
      "weighted avg       0.99      0.99      0.99       646\n",
      " samples avg       0.99      0.99      0.99       646\n",
      "\n"
     ]
    }
   ],
   "source": [
    "y_pred_prob = model.predict(X_test)\n",
    "y_pred = (y_pred_prob > 0.7).astype(\"int32\")\n",
    "print(classification_report(y_test, y_pred))"
   ]
  }
 ],
 "metadata": {
  "kernelspec": {
   "display_name": "Python 3",
   "language": "python",
   "name": "python3"
  },
  "language_info": {
   "codemirror_mode": {
    "name": "ipython",
    "version": 3
   },
   "file_extension": ".py",
   "mimetype": "text/x-python",
   "name": "python",
   "nbconvert_exporter": "python",
   "pygments_lexer": "ipython3",
   "version": "3.12.2"
  }
 },
 "nbformat": 4,
 "nbformat_minor": 2
}
